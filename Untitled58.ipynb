{
 "cells": [
  {
   "cell_type": "markdown",
   "id": "4559984f-a8be-4cc6-be95-bc49b89c5e2e",
   "metadata": {},
   "source": [
    "Q1. What is Random Forest Regressor?\n",
    "\n",
    "Random Forest Regressor is an ensemble learning method that constructs multiple decision trees and combines their predictions to improve accuracy and control overfitting.\n",
    "\n",
    "Q2. How does Random Forest Regressor reduce the risk of overfitting?\n",
    "\n",
    "It reduces overfitting by averaging the predictions of many decision trees, each trained on different subsets of the data, thus smoothing out individual tree anomalies.\n",
    "\n",
    "Q3. How does Random Forest Regressor aggregate the predictions of multiple decision trees?\n",
    "\n",
    "It aggregates predictions by averaging the outputs of all individual decision trees in the forest, resulting in a single prediction for regression tasks.\n",
    "\n",
    "Q4. What are the hyperparameters of Random Forest Regressor?\n",
    "\n",
    "Key hyperparameters include the number of trees (`n_estimators`), maximum tree depth (`max_depth`), minimum samples per leaf (`min_samples_leaf`), and the number of features to consider (`max_features`).\n",
    "\n",
    "Q5. What is the difference between Random Forest Regressor and Decision Tree Regressor?\n",
    "\n",
    "A Decision Tree Regressor uses a single tree, prone to overfitting. A Random Forest Regressor uses multiple trees, reducing overfitting and increasing robustness by averaging their predictions.\n",
    "\n",
    "Q6. What are the advantages and disadvantages of Random Forest Regressor?\n",
    "\n",
    "Advantages: High accuracy, robustness, and resistance to overfitting.  \n",
    "Disadvantages: Computationally intensive, harder to interpret than a single decision tree.\n",
    "\n",
    "Q7. What is the output of Random Forest Regressor?\n",
    "\n",
    "The output is the average of the predictions from all the decision trees within the forest, providing a single continuous value for regression tasks.\n",
    "\n",
    "Q8. Can Random Forest Regressor be used for classification tasks?\n",
    "\n",
    "No, but Random Forest Classifier can be used for classification tasks, which is similar in concept but aggregates predictions by majority voting instead of averaging."
   ]
  }
 ],
 "metadata": {
  "kernelspec": {
   "display_name": "Python 3 (ipykernel)",
   "language": "python",
   "name": "python3"
  },
  "language_info": {
   "codemirror_mode": {
    "name": "ipython",
    "version": 3
   },
   "file_extension": ".py",
   "mimetype": "text/x-python",
   "name": "python",
   "nbconvert_exporter": "python",
   "pygments_lexer": "ipython3",
   "version": "3.10.8"
  }
 },
 "nbformat": 4,
 "nbformat_minor": 5
}
